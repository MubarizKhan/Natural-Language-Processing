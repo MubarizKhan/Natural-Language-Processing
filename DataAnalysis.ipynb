{
  "nbformat": 4,
  "nbformat_minor": 0,
  "metadata": {
    "colab": {
      "name": "DataAnalysis.ipynb",
      "provenance": [],
      "authorship_tag": "ABX9TyPe6KD8rd7lSkhyF7MPPZrq",
      "include_colab_link": true
    },
    "kernelspec": {
      "name": "python3",
      "display_name": "Python 3"
    },
    "language_info": {
      "name": "python"
    }
  },
  "cells": [
    {
      "cell_type": "markdown",
      "metadata": {
        "id": "view-in-github",
        "colab_type": "text"
      },
      "source": [
        "<a href=\"https://colab.research.google.com/github/MubarizKhan/Natural-Language-Processing/blob/main/DataAnalysis.ipynb\" target=\"_parent\"><img src=\"https://colab.research.google.com/assets/colab-badge.svg\" alt=\"Open In Colab\"/></a>"
      ]
    },
    {
      "cell_type": "code",
      "metadata": {
        "id": "lX4GaAMattyM"
      },
      "source": [
        "text = \"the prior reviewer need a little schooling in widescreen . the 1st . \\ntrue widescreen film be the robe in Cinemascope 1953 and follow by how to marry a millionaire both by 20th Century Fox who own the process . \\nboth beautifully do on dvd and vh . so please get you fact straight when make strong statement about other comment.  \""
      ],
      "execution_count": 2,
      "outputs": []
    },
    {
      "cell_type": "code",
      "metadata": {
        "colab": {
          "base_uri": "https://localhost:8080/"
        },
        "id": "PIkWKHpy5icV",
        "outputId": "0f1b63f3-3041-4c30-e591-ca55fe524ad2"
      },
      "source": [
        "print (text)"
      ],
      "execution_count": 3,
      "outputs": [
        {
          "output_type": "stream",
          "text": [
            "the prior reviewer need a little schooling in widescreen . the 1st . \n",
            "true widescreen film be the robe in Cinemascope 1953 and follow by how to marry a millionaire both by 20th Century Fox who own the process . \n",
            "both beautifully do on dvd and vh . so please get you fact straight when make strong statement about other comment.  \n"
          ],
          "name": "stdout"
        }
      ]
    },
    {
      "cell_type": "code",
      "metadata": {
        "id": "VzCckFsO5l9-"
      },
      "source": [
        "# If sentence is being classified then a sentence will be our document, if we're classifying a para; then that\n",
        "# para will be our document, hence a unit document is what we're classifying or analysing. \\n is an identifier of an end of a document"
      ],
      "execution_count": 4,
      "outputs": []
    },
    {
      "cell_type": "code",
      "metadata": {
        "colab": {
          "base_uri": "https://localhost:8080/"
        },
        "id": "sN_XDrQg6HQH",
        "outputId": "b900c0c8-e864-43af-884e-46916d061af9"
      },
      "source": [
        "docs = text.split('\\n')\n",
        "print(len(docs)) #hence each sentence is split"
      ],
      "execution_count": 5,
      "outputs": [
        {
          "output_type": "stream",
          "text": [
            "3\n"
          ],
          "name": "stdout"
        }
      ]
    },
    {
      "cell_type": "code",
      "metadata": {
        "colab": {
          "base_uri": "https://localhost:8080/"
        },
        "id": "k41tSuAY6dk-",
        "outputId": "a31389f0-c1df-432b-e6f5-094fdae9c420"
      },
      "source": [
        "noSent = 0\n",
        "for d in docs:\n",
        "  for char in d:\n",
        "    if char == '.':\n",
        "      noSent += 1\n",
        "print(noSent)"
      ],
      "execution_count": 6,
      "outputs": [
        {
          "output_type": "stream",
          "text": [
            "5\n"
          ],
          "name": "stdout"
        }
      ]
    },
    {
      "cell_type": "code",
      "metadata": {
        "colab": {
          "base_uri": "https://localhost:8080/"
        },
        "id": "_NvsOr9O7QUO",
        "outputId": "0a480082-7782-4b65-a7df-d28e2c7d9d0b"
      },
      "source": [
        "noSent = 0\n",
        "for d in docs:\n",
        "  index = 0\n",
        "  while index != -1:\n",
        "    index = d.find('.', index + 1, len(d))\n",
        "    noSent += 1\n",
        "  noSent -= 1\n",
        "print(noSent)"
      ],
      "execution_count": 7,
      "outputs": [
        {
          "output_type": "stream",
          "text": [
            "5\n"
          ],
          "name": "stdout"
        }
      ]
    },
    {
      "cell_type": "code",
      "metadata": {
        "colab": {
          "base_uri": "https://localhost:8080/"
        },
        "id": "LkbIsAVb8yMe",
        "outputId": "52b7c8ec-3f29-4917-bb8d-b0f5cced3d5a"
      },
      "source": [
        "# Finding number of words in a document\n",
        "noWords = 0\n",
        "for d in docs:\n",
        "  words = d.split(' ')\n",
        "  noWords += len(words)\n",
        "\n",
        "noWords"
      ],
      "execution_count": 8,
      "outputs": [
        {
          "output_type": "execute_result",
          "data": {
            "text/plain": [
              "65"
            ]
          },
          "metadata": {
            "tags": []
          },
          "execution_count": 8
        }
      ]
    },
    {
      "cell_type": "code",
      "metadata": {
        "colab": {
          "base_uri": "https://localhost:8080/"
        },
        "id": "nhk2H9Yn-iXe",
        "outputId": "28f992bf-eb95-4b5f-8c7a-cf2034a420f6"
      },
      "source": [
        "# Building dictionary for the set of unique words in docs\n",
        "vocab = []\n",
        "for d in docs:\n",
        "  words = d.split(' ')\n",
        "  for word in words:\n",
        "    if word not in vocab:\n",
        "      vocab.append(word)\n",
        "\n",
        "print(len(vocab))\n",
        "vocab "
      ],
      "execution_count": 9,
      "outputs": [
        {
          "output_type": "stream",
          "text": [
            "50\n"
          ],
          "name": "stdout"
        },
        {
          "output_type": "execute_result",
          "data": {
            "text/plain": [
              "['the',\n",
              " 'prior',\n",
              " 'reviewer',\n",
              " 'need',\n",
              " 'a',\n",
              " 'little',\n",
              " 'schooling',\n",
              " 'in',\n",
              " 'widescreen',\n",
              " '.',\n",
              " '1st',\n",
              " '',\n",
              " 'true',\n",
              " 'film',\n",
              " 'be',\n",
              " 'robe',\n",
              " 'Cinemascope',\n",
              " '1953',\n",
              " 'and',\n",
              " 'follow',\n",
              " 'by',\n",
              " 'how',\n",
              " 'to',\n",
              " 'marry',\n",
              " 'millionaire',\n",
              " 'both',\n",
              " '20th',\n",
              " 'Century',\n",
              " 'Fox',\n",
              " 'who',\n",
              " 'own',\n",
              " 'process',\n",
              " 'beautifully',\n",
              " 'do',\n",
              " 'on',\n",
              " 'dvd',\n",
              " 'vh',\n",
              " 'so',\n",
              " 'please',\n",
              " 'get',\n",
              " 'you',\n",
              " 'fact',\n",
              " 'straight',\n",
              " 'when',\n",
              " 'make',\n",
              " 'strong',\n",
              " 'statement',\n",
              " 'about',\n",
              " 'other',\n",
              " 'comment.']"
            ]
          },
          "metadata": {
            "tags": []
          },
          "execution_count": 9
        }
      ]
    },
    {
      "cell_type": "code",
      "metadata": {
        "colab": {
          "base_uri": "https://localhost:8080/"
        },
        "id": "vs_3Xw4n-6X-",
        "outputId": "7508c107-49aa-4fac-b24c-23e573ac7fa8"
      },
      "source": [
        "noWords / noSent"
      ],
      "execution_count": 10,
      "outputs": [
        {
          "output_type": "execute_result",
          "data": {
            "text/plain": [
              "13.0"
            ]
          },
          "metadata": {
            "tags": []
          },
          "execution_count": 10
        }
      ]
    },
    {
      "cell_type": "code",
      "metadata": {
        "colab": {
          "base_uri": "https://localhost:8080/"
        },
        "id": "A3S0ontxAksf",
        "outputId": "3ffda803-79e9-4e67-e8b4-cb7166cad2cc"
      },
      "source": [
        "noWords / len(docs)"
      ],
      "execution_count": 11,
      "outputs": [
        {
          "output_type": "execute_result",
          "data": {
            "text/plain": [
              "21.666666666666668"
            ]
          },
          "metadata": {
            "tags": []
          },
          "execution_count": 11
        }
      ]
    },
    {
      "cell_type": "code",
      "metadata": {
        "colab": {
          "base_uri": "https://localhost:8080/"
        },
        "id": "CyT_urmxAsU-",
        "outputId": "be449826-edaa-4483-d4fb-de3d1c89e2e5"
      },
      "source": [
        "noWords / len(vocab)"
      ],
      "execution_count": 12,
      "outputs": [
        {
          "output_type": "execute_result",
          "data": {
            "text/plain": [
              "1.3"
            ]
          },
          "metadata": {
            "tags": []
          },
          "execution_count": 12
        }
      ]
    },
    {
      "cell_type": "code",
      "metadata": {
        "colab": {
          "base_uri": "https://localhost:8080/"
        },
        "id": "LMkJtaBuA27P",
        "outputId": "fa5e4bbe-8862-4916-96c5-1466e0b0edb7"
      },
      "source": [
        "# char per words\n",
        "noAllChar = 0\n",
        "for d in docs:\n",
        "  noAllChar += len(d)\n",
        "noAllChar / noWords"
      ],
      "execution_count": 13,
      "outputs": [
        {
          "output_type": "execute_result",
          "data": {
            "text/plain": [
              "5.030769230769231"
            ]
          },
          "metadata": {
            "tags": []
          },
          "execution_count": 13
        }
      ]
    },
    {
      "cell_type": "code",
      "metadata": {
        "id": "-moHnfGJCBtg"
      },
      "source": [
        "# Now we're going towards most frequent & infrequent words-- words and their frequiencies paralel to them are needed.\n"
      ],
      "execution_count": 14,
      "outputs": []
    },
    {
      "cell_type": "code",
      "metadata": {
        "id": "zxFJXGWlOZRs"
      },
      "source": [
        "# Finding most & least frequent words in the document\n",
        "wordFreq  = {}\n",
        "\n",
        "for d in docs:\n",
        "  for word in d.split(' '):\n",
        "    if word in wordFreq.keys():\n",
        "      wordFreq[word] += 1\n",
        "    else:\n",
        "      wordFreq[word] = 1\n"
      ],
      "execution_count": 15,
      "outputs": []
    },
    {
      "cell_type": "code",
      "metadata": {
        "colab": {
          "base_uri": "https://localhost:8080/"
        },
        "id": "lKRDQYiHTXa0",
        "outputId": "9d5d9f2f-3931-4a35-bf46-22b742118950"
      },
      "source": [
        "minFreq = min(wordFreq.values())\n",
        "maxFreq = max(wordFreq.values())\n",
        "wordFreq.keys()"
      ],
      "execution_count": 16,
      "outputs": [
        {
          "output_type": "execute_result",
          "data": {
            "text/plain": [
              "dict_keys(['the', 'prior', 'reviewer', 'need', 'a', 'little', 'schooling', 'in', 'widescreen', '.', '1st', '', 'true', 'film', 'be', 'robe', 'Cinemascope', '1953', 'and', 'follow', 'by', 'how', 'to', 'marry', 'millionaire', 'both', '20th', 'Century', 'Fox', 'who', 'own', 'process', 'beautifully', 'do', 'on', 'dvd', 'vh', 'so', 'please', 'get', 'you', 'fact', 'straight', 'when', 'make', 'strong', 'statement', 'about', 'other', 'comment.'])"
            ]
          },
          "metadata": {
            "tags": []
          },
          "execution_count": 16
        }
      ]
    },
    {
      "cell_type": "code",
      "metadata": {
        "id": "BpM9YXGZTY__"
      },
      "source": [
        "minFreqWords = []\n",
        "maxFreqWords = []\n",
        "\n",
        "for key in wordFreq.keys():\n",
        "  if wordFreq[key] == minFreq:\n",
        "    minFreqWords.append(key) #wordFreq[key] = value of key\n",
        "  elif wordFreq[key] == maxFreq:\n",
        "    maxFreqWords.append(key)"
      ],
      "execution_count": 17,
      "outputs": []
    },
    {
      "cell_type": "code",
      "metadata": {
        "colab": {
          "base_uri": "https://localhost:8080/"
        },
        "id": "liAwPjoLTyzB",
        "outputId": "4a3f6ef5-9509-4679-b659-72e4d73cf983"
      },
      "source": [
        "maxFreqWords\n"
      ],
      "execution_count": 18,
      "outputs": [
        {
          "output_type": "execute_result",
          "data": {
            "text/plain": [
              "['the', '.', '']"
            ]
          },
          "metadata": {
            "tags": []
          },
          "execution_count": 18
        }
      ]
    },
    {
      "cell_type": "code",
      "metadata": {
        "colab": {
          "base_uri": "https://localhost:8080/"
        },
        "id": "zEYb3ZAuU2oh",
        "outputId": "8aee18f9-c8ee-48f7-8044-ae7d83e4ffaf"
      },
      "source": [
        "minFreqWords"
      ],
      "execution_count": 19,
      "outputs": [
        {
          "output_type": "execute_result",
          "data": {
            "text/plain": [
              "['prior',\n",
              " 'reviewer',\n",
              " 'need',\n",
              " 'little',\n",
              " 'schooling',\n",
              " '1st',\n",
              " 'true',\n",
              " 'film',\n",
              " 'be',\n",
              " 'robe',\n",
              " 'Cinemascope',\n",
              " '1953',\n",
              " 'follow',\n",
              " 'how',\n",
              " 'to',\n",
              " 'marry',\n",
              " 'millionaire',\n",
              " '20th',\n",
              " 'Century',\n",
              " 'Fox',\n",
              " 'who',\n",
              " 'own',\n",
              " 'process',\n",
              " 'beautifully',\n",
              " 'do',\n",
              " 'on',\n",
              " 'dvd',\n",
              " 'vh',\n",
              " 'so',\n",
              " 'please',\n",
              " 'get',\n",
              " 'you',\n",
              " 'fact',\n",
              " 'straight',\n",
              " 'when',\n",
              " 'make',\n",
              " 'strong',\n",
              " 'statement',\n",
              " 'about',\n",
              " 'other',\n",
              " 'comment.']"
            ]
          },
          "metadata": {
            "tags": []
          },
          "execution_count": 19
        }
      ]
    },
    {
      "cell_type": "code",
      "metadata": {
        "colab": {
          "base_uri": "https://localhost:8080/"
        },
        "id": "LRf0iFI0VWRh",
        "outputId": "7b6cfdeb-4f90-4110-bd86-b7d74206c694"
      },
      "source": [
        "# The members of our vocabulary-- it isn't necessary that they are the members of the certain language, so tokens is a better term for them rather than words.\n",
        "#hence 1st isn't a word; so an appropriate word to use for them is token.\n",
        "wordFreq.keys()"
      ],
      "execution_count": 20,
      "outputs": [
        {
          "output_type": "execute_result",
          "data": {
            "text/plain": [
              "dict_keys(['the', 'prior', 'reviewer', 'need', 'a', 'little', 'schooling', 'in', 'widescreen', '.', '1st', '', 'true', 'film', 'be', 'robe', 'Cinemascope', '1953', 'and', 'follow', 'by', 'how', 'to', 'marry', 'millionaire', 'both', '20th', 'Century', 'Fox', 'who', 'own', 'process', 'beautifully', 'do', 'on', 'dvd', 'vh', 'so', 'please', 'get', 'you', 'fact', 'straight', 'when', 'make', 'strong', 'statement', 'about', 'other', 'comment.'])"
            ]
          },
          "metadata": {
            "tags": []
          },
          "execution_count": 20
        }
      ]
    },
    {
      "cell_type": "code",
      "metadata": {
        "id": "ai-DOC-5WUQ6"
      },
      "source": [
        "###Second most infrequent word-- consider it a task. 2. Find shortest doc by no. of words & characters\n",
        "# wordFreq"
      ],
      "execution_count": 21,
      "outputs": []
    },
    {
      "cell_type": "code",
      "metadata": {
        "id": "PcVbENysWpCR"
      },
      "source": [
        "unwantedTokens = ['the', 'a', 'in', '.' , 'and', 'so', 'be', 'on', '']\n",
        "\n",
        "# Longest / Shortest Tokens]\n",
        "minLen = len(vocab[0])\n",
        "minLenWords = []\n",
        "\n",
        "maxLen = len(vocab[0])\n",
        "maxLenWords = []\n",
        "\n",
        "for token in vocab:\n",
        "  if token not in unwantedTokens:\n",
        "    if len(token) < minLen:\n",
        "      minLen = len(token)\n",
        "    elif len(token) > maxLen:\n",
        "      maxLen = len(token)\n",
        "\n",
        "for token in vocab:\n",
        "  if token not in unwantedTokens:\n",
        "    if len(token) == minLen:\n",
        "      minLenWords.append(token) \n",
        "    if len(token) == maxLen:\n",
        "      maxLenWords.append(token)\n"
      ],
      "execution_count": 22,
      "outputs": []
    },
    {
      "cell_type": "code",
      "metadata": {
        "colab": {
          "base_uri": "https://localhost:8080/"
        },
        "id": "Y9_vpgMxcUy-",
        "outputId": "56dfc837-b6d0-4898-b862-9adb033b53e5"
      },
      "source": [
        "minLen"
      ],
      "execution_count": 23,
      "outputs": [
        {
          "output_type": "execute_result",
          "data": {
            "text/plain": [
              "2"
            ]
          },
          "metadata": {
            "tags": []
          },
          "execution_count": 23
        }
      ]
    },
    {
      "cell_type": "code",
      "metadata": {
        "colab": {
          "base_uri": "https://localhost:8080/"
        },
        "id": "ePaj6_5mctYQ",
        "outputId": "2f60fe61-2d05-485a-ee33-99f74af05f14"
      },
      "source": [
        "for i in maxLenWords:\n",
        "  print(len(i))"
      ],
      "execution_count": 24,
      "outputs": [
        {
          "output_type": "stream",
          "text": [
            "11\n",
            "11\n",
            "11\n"
          ],
          "name": "stdout"
        }
      ]
    },
    {
      "cell_type": "code",
      "metadata": {
        "colab": {
          "base_uri": "https://localhost:8080/"
        },
        "id": "lT1m-GhVdQjQ",
        "outputId": "561402b7-505a-4992-cb2a-3e78112273d4"
      },
      "source": [
        "minLenWords"
      ],
      "execution_count": 25,
      "outputs": [
        {
          "output_type": "execute_result",
          "data": {
            "text/plain": [
              "['by', 'to', 'do', 'vh']"
            ]
          },
          "metadata": {
            "tags": []
          },
          "execution_count": 25
        }
      ]
    },
    {
      "cell_type": "code",
      "metadata": {
        "id": "bsO5gL-DdSRf",
        "colab": {
          "base_uri": "https://localhost:8080/",
          "height": 295
        },
        "outputId": "9f517c27-8e14-4103-88b0-190c2b5df788"
      },
      "source": [
        "import matplotlib.pyplot as plt\n",
        "\n",
        "plt.figure()\n",
        "plt.xlabel('Tokens')\n",
        "plt.ylabel('Frequencies')\n",
        "plt.title('Token frequency representation')\n",
        "plt.plot( [i for i in range(len(wordFreq))], list(wordFreq.values()))\n",
        "plt.show()"
      ],
      "execution_count": 27,
      "outputs": [
        {
          "output_type": "display_data",
          "data": {
            "image/png": "[encoded data removed]",
            "text/plain": [
              "<Figure size 432x288 with 1 Axes>"
            ]
          },
          "metadata": {
            "tags": [],
            "needs_background": "light"
          }
        }
      ]
    },
    {
      "cell_type": "code",
      "metadata": {
        "colab": {
          "base_uri": "https://localhost:8080/"
        },
        "id": "a_kbpNxEN3le",
        "outputId": "ce5ab2da-68a0-4449-9ee4-fb793e6ed77a"
      },
      "source": [
        "words = list(wordFreq.keys())\n",
        "freq = list(wordFreq.values())\n",
        "tmp = sorted(list(zip(freq, words)))\n",
        "sorted_freq, sorted_words = zip(*tmp)\n",
        "# tmp\n",
        "sorted_words"
      ],
      "execution_count": 34,
      "outputs": [
        {
          "output_type": "execute_result",
          "data": {
            "text/plain": [
              "('1953',\n",
              " '1st',\n",
              " '20th',\n",
              " 'Century',\n",
              " 'Cinemascope',\n",
              " 'Fox',\n",
              " 'about',\n",
              " 'be',\n",
              " 'beautifully',\n",
              " 'comment.',\n",
              " 'do',\n",
              " 'dvd',\n",
              " 'fact',\n",
              " 'film',\n",
              " 'follow',\n",
              " 'get',\n",
              " 'how',\n",
              " 'little',\n",
              " 'make',\n",
              " 'marry',\n",
              " 'millionaire',\n",
              " 'need',\n",
              " 'on',\n",
              " 'other',\n",
              " 'own',\n",
              " 'please',\n",
              " 'prior',\n",
              " 'process',\n",
              " 'reviewer',\n",
              " 'robe',\n",
              " 'schooling',\n",
              " 'so',\n",
              " 'statement',\n",
              " 'straight',\n",
              " 'strong',\n",
              " 'to',\n",
              " 'true',\n",
              " 'vh',\n",
              " 'when',\n",
              " 'who',\n",
              " 'you',\n",
              " 'a',\n",
              " 'and',\n",
              " 'both',\n",
              " 'by',\n",
              " 'in',\n",
              " 'widescreen',\n",
              " '',\n",
              " '.',\n",
              " 'the')"
            ]
          },
          "metadata": {
            "tags": []
          },
          "execution_count": 34
        }
      ]
    },
    {
      "cell_type": "code",
      "metadata": {
        "colab": {
          "base_uri": "https://localhost:8080/",
          "height": 279
        },
        "id": "Uq6rthTnTX1w",
        "outputId": "84d4f00b-553c-479e-aee0-ed05c4d773f2"
      },
      "source": [
        " plt.figure()\n",
        " plt.xlabel('Tokens')\n",
        " plt.ylabel('Frequencies')\n",
        " plt.plot(sorted_words, sorted_freq)\n",
        " plt.show()"
      ],
      "execution_count": 35,
      "outputs": [
        {
          "output_type": "display_data",
          "data": {
            "image/png": "[encoded data removed]",
            "text/plain": [
              "<Figure size 432x288 with 1 Axes>"
            ]
          },
          "metadata": {
            "tags": [],
            "needs_background": "light"
          }
        }
      ]
    },
    {
      "cell_type": "code",
      "metadata": {
        "id": "Dp283RwoUxyw"
      },
      "source": [
        ""
      ],
      "execution_count": null,
      "outputs": []
    }
  ]
}