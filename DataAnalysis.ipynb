{
  "nbformat": 4,
  "nbformat_minor": 0,
  "metadata": {
    "colab": {
      "name": "DataAnalysis.ipynb",
      "provenance": [],
      "authorship_tag": "ABX9TyOXQ8Gw9lM3ksWm2nb0pkcF",
      "include_colab_link": true
    },
    "kernelspec": {
      "name": "python3",
      "display_name": "Python 3"
    },
    "language_info": {
      "name": "python"
    }
  },
  "cells": [
    {
      "cell_type": "markdown",
      "metadata": {
        "id": "view-in-github",
        "colab_type": "text"
      },
      "source": [
        "<a href=\"https://colab.research.google.com/github/MubarizKhan/Natural-Language-Processing/blob/main/DataAnalysis.ipynb\" target=\"_parent\"><img src=\"https://colab.research.google.com/assets/colab-badge.svg\" alt=\"Open In Colab\"/></a>"
      ]
    },
    {
      "cell_type": "code",
      "metadata": {
        "id": "lX4GaAMattyM"
      },
      "source": [
        "text = \"the prior reviewer need a little schooling in widescreen . the 1st . \\ntrue widescreen film be the robe in Cinemascope 1953 and follow by how to marry a millionaire both by 20th Century Fox who own the process . \\nboth beautifully do on dvd and vh . so please get you fact straight when make strong statement about other comment.  \""
      ],
      "execution_count": 2,
      "outputs": []
    },
    {
      "cell_type": "code",
      "metadata": {
        "colab": {
          "base_uri": "https://localhost:8080/"
        },
        "id": "PIkWKHpy5icV",
        "outputId": "4502f74e-abcb-440c-bb57-84229244e4e0"
      },
      "source": [
        "print (text)"
      ],
      "execution_count": 3,
      "outputs": [
        {
          "output_type": "stream",
          "text": [
            "the prior reviewer need a little schooling in widescreen . the 1st . \n",
            "true widescreen film be the robe in Cinemascope 1953 and follow by how to marry a millionaire both by 20th Century Fox who own the process . \n",
            "both beautifully do on dvd and vh . so please get you fact straight when make strong statement about other comment.  \n"
          ],
          "name": "stdout"
        }
      ]
    },
    {
      "cell_type": "code",
      "metadata": {
        "id": "VzCckFsO5l9-"
      },
      "source": [
        "# If sentence is being classified then a sentence will be our document, if we're classifying a para; then that\n",
        "# para will be our document, hence a unit document is what we're classifying or analysing. \\n is an identifier of an end of a document"
      ],
      "execution_count": 6,
      "outputs": []
    },
    {
      "cell_type": "code",
      "metadata": {
        "colab": {
          "base_uri": "https://localhost:8080/"
        },
        "id": "sN_XDrQg6HQH",
        "outputId": "ec8238b6-5929-4c57-de6d-559b32cee298"
      },
      "source": [
        "docs = text.split('\\n')\n",
        "print(len(docs)) #hence each sentence is split"
      ],
      "execution_count": 9,
      "outputs": [
        {
          "output_type": "stream",
          "text": [
            "3\n"
          ],
          "name": "stdout"
        }
      ]
    },
    {
      "cell_type": "code",
      "metadata": {
        "colab": {
          "base_uri": "https://localhost:8080/"
        },
        "id": "k41tSuAY6dk-",
        "outputId": "69e43ec7-1fbc-424e-b276-494f84a176f8"
      },
      "source": [
        "noSent = 0\n",
        "for d in docs:\n",
        "  for char in d:\n",
        "    if char == '.':\n",
        "      noSent += 1\n",
        "print(noSent)"
      ],
      "execution_count": 11,
      "outputs": [
        {
          "output_type": "stream",
          "text": [
            "5\n"
          ],
          "name": "stdout"
        }
      ]
    },
    {
      "cell_type": "code",
      "metadata": {
        "colab": {
          "base_uri": "https://localhost:8080/"
        },
        "id": "_NvsOr9O7QUO",
        "outputId": "50599a56-d315-4357-e18b-55cd0cf022df"
      },
      "source": [
        "noSent = 0\n",
        "for d in docs:\n",
        "  index = 0\n",
        "  while index != -1:\n",
        "    index = d.find('.', index + 1, len(d))\n",
        "    noSent += 1\n",
        "  noSent -= 1\n",
        "print(noSent)"
      ],
      "execution_count": 12,
      "outputs": [
        {
          "output_type": "stream",
          "text": [
            "5\n"
          ],
          "name": "stdout"
        }
      ]
    },
    {
      "cell_type": "code",
      "metadata": {
        "colab": {
          "base_uri": "https://localhost:8080/"
        },
        "id": "LkbIsAVb8yMe",
        "outputId": "95cb46f7-89e7-4eef-86ab-621553e6db76"
      },
      "source": [
        "# Finding number of words in a document\n",
        "noWords = 0\n",
        "for d in docs:\n",
        "  words = d.split(' ')\n",
        "  noWords += len(words)\n",
        "\n",
        "noWords"
      ],
      "execution_count": 14,
      "outputs": [
        {
          "output_type": "execute_result",
          "data": {
            "text/plain": [
              "65"
            ]
          },
          "metadata": {
            "tags": []
          },
          "execution_count": 14
        }
      ]
    },
    {
      "cell_type": "code",
      "metadata": {
        "colab": {
          "base_uri": "https://localhost:8080/"
        },
        "id": "nhk2H9Yn-iXe",
        "outputId": "07aa4449-fe12-4d74-d2b0-fcef78e0b36c"
      },
      "source": [
        "# Building dictionary for the set of unique words in docs\n",
        "vocab = []\n",
        "for d in docs:\n",
        "  words = d.split(' ')\n",
        "  for word in words:\n",
        "    if word not in vocab:\n",
        "      vocab.append(word)\n",
        "\n",
        "print(len(vocab))\n",
        "vocab "
      ],
      "execution_count": 19,
      "outputs": [
        {
          "output_type": "stream",
          "text": [
            "50\n"
          ],
          "name": "stdout"
        },
        {
          "output_type": "execute_result",
          "data": {
            "text/plain": [
              "['the',\n",
              " 'prior',\n",
              " 'reviewer',\n",
              " 'need',\n",
              " 'a',\n",
              " 'little',\n",
              " 'schooling',\n",
              " 'in',\n",
              " 'widescreen',\n",
              " '.',\n",
              " '1st',\n",
              " '',\n",
              " 'true',\n",
              " 'film',\n",
              " 'be',\n",
              " 'robe',\n",
              " 'Cinemascope',\n",
              " '1953',\n",
              " 'and',\n",
              " 'follow',\n",
              " 'by',\n",
              " 'how',\n",
              " 'to',\n",
              " 'marry',\n",
              " 'millionaire',\n",
              " 'both',\n",
              " '20th',\n",
              " 'Century',\n",
              " 'Fox',\n",
              " 'who',\n",
              " 'own',\n",
              " 'process',\n",
              " 'beautifully',\n",
              " 'do',\n",
              " 'on',\n",
              " 'dvd',\n",
              " 'vh',\n",
              " 'so',\n",
              " 'please',\n",
              " 'get',\n",
              " 'you',\n",
              " 'fact',\n",
              " 'straight',\n",
              " 'when',\n",
              " 'make',\n",
              " 'strong',\n",
              " 'statement',\n",
              " 'about',\n",
              " 'other',\n",
              " 'comment.']"
            ]
          },
          "metadata": {
            "tags": []
          },
          "execution_count": 19
        }
      ]
    },
    {
      "cell_type": "code",
      "metadata": {
        "colab": {
          "base_uri": "https://localhost:8080/"
        },
        "id": "vs_3Xw4n-6X-",
        "outputId": "3c3a892d-3db6-4534-b4e4-a75aa5ac3492"
      },
      "source": [
        "noWords / noSent"
      ],
      "execution_count": 20,
      "outputs": [
        {
          "output_type": "execute_result",
          "data": {
            "text/plain": [
              "13.0"
            ]
          },
          "metadata": {
            "tags": []
          },
          "execution_count": 20
        }
      ]
    },
    {
      "cell_type": "code",
      "metadata": {
        "colab": {
          "base_uri": "https://localhost:8080/"
        },
        "id": "A3S0ontxAksf",
        "outputId": "fd4bcea6-6a44-4134-a95e-22701eb128ca"
      },
      "source": [
        "noWords / len(docs)"
      ],
      "execution_count": 22,
      "outputs": [
        {
          "output_type": "execute_result",
          "data": {
            "text/plain": [
              "21.666666666666668"
            ]
          },
          "metadata": {
            "tags": []
          },
          "execution_count": 22
        }
      ]
    },
    {
      "cell_type": "code",
      "metadata": {
        "colab": {
          "base_uri": "https://localhost:8080/"
        },
        "id": "CyT_urmxAsU-",
        "outputId": "59c6ab55-5979-4524-f03f-ce570e0dc762"
      },
      "source": [
        "noWords / len(vocab)"
      ],
      "execution_count": 26,
      "outputs": [
        {
          "output_type": "execute_result",
          "data": {
            "text/plain": [
              "1.3"
            ]
          },
          "metadata": {
            "tags": []
          },
          "execution_count": 26
        }
      ]
    },
    {
      "cell_type": "code",
      "metadata": {
        "colab": {
          "base_uri": "https://localhost:8080/"
        },
        "id": "LMkJtaBuA27P",
        "outputId": "ba837da1-1607-4630-f9e3-c98617fb12d4"
      },
      "source": [
        "# char per words\n",
        "noAllChar = 0\n",
        "for d in docs:\n",
        "  noAllChar += len(d)\n",
        "noAllChar / noWords"
      ],
      "execution_count": 28,
      "outputs": [
        {
          "output_type": "execute_result",
          "data": {
            "text/plain": [
              "5.030769230769231"
            ]
          },
          "metadata": {
            "tags": []
          },
          "execution_count": 28
        }
      ]
    },
    {
      "cell_type": "code",
      "metadata": {
        "id": "-moHnfGJCBtg"
      },
      "source": [
        ""
      ],
      "execution_count": null,
      "outputs": []
    }
  ]
}