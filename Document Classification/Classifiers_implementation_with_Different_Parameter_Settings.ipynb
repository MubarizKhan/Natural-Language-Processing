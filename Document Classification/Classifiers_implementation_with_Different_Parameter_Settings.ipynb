{
  "nbformat": 4,
  "nbformat_minor": 0,
  "metadata": {
    "colab": {
      "name": "Classifiers_implementation_with_Different_Parameter_Settings.ipynb",
      "provenance": [],
      "mount_file_id": "1M48fIRagXyUzmnF75rGOs11SFoa4ziL4",
      "authorship_tag": "ABX9TyPdVrSug8pWRGDwyxa7B2XJ",
      "include_colab_link": true
    },
    "kernelspec": {
      "name": "python3",
      "display_name": "Python 3"
    },
    "language_info": {
      "name": "python"
    }
  },
  "cells": [
    {
      "cell_type": "markdown",
      "metadata": {
        "id": "view-in-github",
        "colab_type": "text"
      },
      "source": [
        "<a href=\"https://colab.research.google.com/github/MubarizKhan/Natural-Language-Processing/blob/main/Document%20Classification/Classifiers_implementation_with_Different_Parameter_Settings.ipynb\" target=\"_parent\"><img src=\"https://colab.research.google.com/assets/colab-badge.svg\" alt=\"Open In Colab\"/></a>"
      ]
    },
    {
      "cell_type": "code",
      "metadata": {
        "id": "qcReLFwjsleW"
      },
      "source": [
        "corpus = open('/dataset.txt').read()"
      ],
      "execution_count": 2,
      "outputs": []
    },
    {
      "cell_type": "code",
      "metadata": {
        "id": "Jfra3TZIshwU"
      },
      "source": [
        "corpus = open('/dataset.txt').read()\n",
        "docs = corpus.split('\\n')\n",
        "\n",
        "X,y = [] , []\n",
        "for doc in docs:\n",
        "  i,l = doc.split(':')\n",
        "  X.append(i.strip())\n",
        "  y.append(l.strip())"
      ],
      "execution_count": 7,
      "outputs": []
    },
    {
      "cell_type": "code",
      "metadata": {
        "id": "jLaTjL3G4Xk8"
      },
      "source": [
        "from sklearn.feature_extraction.text import CountVectorizer\n",
        "vec = CountVectorizer()\n",
        "matrix_X = vec.fit_transform(X)"
      ],
      "execution_count": 8,
      "outputs": []
    },
    {
      "cell_type": "code",
      "metadata": {
        "id": "38GdRrnA5LWz"
      },
      "source": [
        "from sklearn.neighbors import KNeighborsClassifier \n",
        "from sklearn.naive_bayes import MultinomialNB\n",
        "from sklearn.tree import DecisionTreeClassifier\n",
        "from sklearn.linear_model import SGDClassifier\n"
      ],
      "execution_count": 9,
      "outputs": []
    },
    {
      "cell_type": "code",
      "metadata": {
        "id": "c_81BNHL5yLD"
      },
      "source": [
        "knn = KNeighborsClassifier(n_neighbors =3, algorithm = 'kd_tree', weights = 'distance' )\n",
        "#  weights = 'distance'. nearest neigbhors given greater weight "
      ],
      "execution_count": 10,
      "outputs": []
    },
    {
      "cell_type": "code",
      "metadata": {
        "id": "rkwhvxPo6NJD"
      },
      "source": [
        "nb = MultinomialNB(alpha=1.0, fit_prior = True) #(bool)fit_prior = true  false-> instructing the model to keep priorr probabilities as uniform"
      ],
      "execution_count": 12,
      "outputs": []
    },
    {
      "cell_type": "code",
      "metadata": {
        "id": "iiLJXx726pJU"
      },
      "source": [
        "#another possibiloty is given our own prior vLUES class_prior\n",
        "nb1 = MultinomialNB(alpha = 1.0, class_prior = [0.7,0.3]) #keep the first label grocieries with the prior probability of 0.7"
      ],
      "execution_count": 13,
      "outputs": []
    },
    {
      "cell_type": "code",
      "metadata": {
        "id": "llDLv8hB7qKj"
      },
      "source": [
        "dt = DecisionTreeClassifier(max_depth = 2 ) #max_depth -> 2 levels of branaching conditions"
      ],
      "execution_count": 14,
      "outputs": []
    },
    {
      "cell_type": "code",
      "metadata": {
        "id": "LuOIHfq474vT"
      },
      "source": [
        "ln = SGDClassifier(max_iter = 100 ) #max_iter"
      ],
      "execution_count": 15,
      "outputs": []
    },
    {
      "cell_type": "code",
      "metadata": {
        "id": "jJ1mCvyW8GdU"
      },
      "source": [
        ""
      ],
      "execution_count": null,
      "outputs": []
    }
  ]
}