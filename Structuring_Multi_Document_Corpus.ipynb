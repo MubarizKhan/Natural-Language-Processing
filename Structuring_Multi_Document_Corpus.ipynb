{
  "nbformat": 4,
  "nbformat_minor": 0,
  "metadata": {
    "colab": {
      "name": "Structuring-Multi-Document-Corpus.ipynb",
      "provenance": [],
      "authorship_tag": "ABX9TyPn942noSxHN7F4YbMXqiIL",
      "include_colab_link": true
    },
    "kernelspec": {
      "name": "python3",
      "display_name": "Python 3"
    },
    "language_info": {
      "name": "python"
    }
  },
  "cells": [
    {
      "cell_type": "markdown",
      "metadata": {
        "id": "view-in-github",
        "colab_type": "text"
      },
      "source": [
        "<a href=\"https://colab.research.google.com/github/MubarizKhan/Natural-Language-Processing/blob/main/Structuring_Multi_Document_Corpus.ipynb\" target=\"_parent\"><img src=\"https://colab.research.google.com/assets/colab-badge.svg\" alt=\"Open In Colab\"/></a>"
      ]
    },
    {
      "cell_type": "code",
      "metadata": {
        "id": "lUS7P2T3IdhK"
      },
      "source": [
        "corpus = ['text mining is interesting',\n",
        "          'text mining is like data mining',\n",
        "          'text and data mining have a few differences'\n",
        "        ]"
      ],
      "execution_count": 9,
      "outputs": []
    },
    {
      "cell_type": "code",
      "metadata": {
        "id": "WXTGJCugIq5S"
      },
      "source": [
        "from sklearn.feature_extraction.text import CountVectorizer"
      ],
      "execution_count": 10,
      "outputs": []
    },
    {
      "cell_type": "code",
      "metadata": {
        "id": "b8R18GUIIz8L"
      },
      "source": [
        "vec = CountVectorizer()"
      ],
      "execution_count": 11,
      "outputs": []
    },
    {
      "cell_type": "code",
      "metadata": {
        "colab": {
          "base_uri": "https://localhost:8080/"
        },
        "id": "wnss6XP2I367",
        "outputId": "47123b3a-67a9-4d2d-a548-310a2d5be437"
      },
      "source": [
        "X = vec.fit_transform(corpus)\n",
        "X\n"
      ],
      "execution_count": 12,
      "outputs": [
        {
          "output_type": "execute_result",
          "data": {
            "text/plain": [
              "<3x10 sparse matrix of type '<class 'numpy.int64'>'\n",
              "\twith 16 stored elements in Compressed Sparse Row format>"
            ]
          },
          "metadata": {
            "tags": []
          },
          "execution_count": 12
        }
      ]
    },
    {
      "cell_type": "code",
      "metadata": {
        "colab": {
          "base_uri": "https://localhost:8080/"
        },
        "id": "eukyxHFiI-IJ",
        "outputId": "fe4bb36b-9f54-4a1c-df9b-e51ab7da9341"
      },
      "source": [
        "X.toarray()"
      ],
      "execution_count": 13,
      "outputs": [
        {
          "output_type": "execute_result",
          "data": {
            "text/plain": [
              "array([[0, 0, 0, 0, 0, 1, 1, 0, 1, 1],\n",
              "       [0, 1, 0, 0, 0, 0, 1, 1, 2, 1],\n",
              "       [1, 1, 1, 1, 1, 0, 0, 0, 1, 1]])"
            ]
          },
          "metadata": {
            "tags": []
          },
          "execution_count": 13
        }
      ]
    },
    {
      "cell_type": "code",
      "metadata": {
        "colab": {
          "base_uri": "https://localhost:8080/"
        },
        "id": "bioyYnx0JBG6",
        "outputId": "d25413a2-acda-4078-8c7f-02df221f73f2"
      },
      "source": [
        "vec.get_feature_names()"
      ],
      "execution_count": 14,
      "outputs": [
        {
          "output_type": "execute_result",
          "data": {
            "text/plain": [
              "['and',\n",
              " 'data',\n",
              " 'differences',\n",
              " 'few',\n",
              " 'have',\n",
              " 'interesting',\n",
              " 'is',\n",
              " 'like',\n",
              " 'mining',\n",
              " 'text']"
            ]
          },
          "metadata": {
            "tags": []
          },
          "execution_count": 14
        }
      ]
    },
    {
      "cell_type": "code",
      "metadata": {
        "colab": {
          "base_uri": "https://localhost:8080/"
        },
        "id": "TFh8HbOxJNqd",
        "outputId": "e1909df4-8d0d-42c9-b99f-9417b79d3063"
      },
      "source": [
        "len(vec.get_feature_names())"
      ],
      "execution_count": 15,
      "outputs": [
        {
          "output_type": "execute_result",
          "data": {
            "text/plain": [
              "10"
            ]
          },
          "metadata": {
            "tags": []
          },
          "execution_count": 15
        }
      ]
    },
    {
      "cell_type": "code",
      "metadata": {
        "colab": {
          "base_uri": "https://localhost:8080/"
        },
        "id": "Dk4d9K9HJeqb",
        "outputId": "521d066d-5515-4454-f9b0-9a90f61f864e"
      },
      "source": [
        "vec.vocabulary_"
      ],
      "execution_count": 16,
      "outputs": [
        {
          "output_type": "execute_result",
          "data": {
            "text/plain": [
              "{'and': 0,\n",
              " 'data': 1,\n",
              " 'differences': 2,\n",
              " 'few': 3,\n",
              " 'have': 4,\n",
              " 'interesting': 5,\n",
              " 'is': 6,\n",
              " 'like': 7,\n",
              " 'mining': 8,\n",
              " 'text': 9}"
            ]
          },
          "metadata": {
            "tags": []
          },
          "execution_count": 16
        }
      ]
    },
    {
      "cell_type": "code",
      "metadata": {
        "id": "lOAK667AJhFL"
      },
      "source": [
        ""
      ],
      "execution_count": null,
      "outputs": []
    }
  ]
}