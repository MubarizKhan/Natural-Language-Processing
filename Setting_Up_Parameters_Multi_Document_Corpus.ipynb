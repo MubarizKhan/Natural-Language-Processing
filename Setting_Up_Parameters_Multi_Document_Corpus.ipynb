{
  "nbformat": 4,
  "nbformat_minor": 0,
  "metadata": {
    "colab": {
      "name": "Setting Up-Parameters-Multi-Document-Corpus.ipynb",
      "provenance": [],
      "authorship_tag": "ABX9TyPT4rMDb4zxoVhBcXgpI6sz",
      "include_colab_link": true
    },
    "kernelspec": {
      "name": "python3",
      "display_name": "Python 3"
    },
    "language_info": {
      "name": "python"
    }
  },
  "cells": [
    {
      "cell_type": "markdown",
      "metadata": {
        "id": "view-in-github",
        "colab_type": "text"
      },
      "source": [
        "<a href=\"https://colab.research.google.com/github/MubarizKhan/Natural-Language-Processing/blob/main/Setting_Up_Parameters_Multi_Document_Corpus.ipynb\" target=\"_parent\"><img src=\"https://colab.research.google.com/assets/colab-badge.svg\" alt=\"Open In Colab\"/></a>"
      ]
    },
    {
      "cell_type": "code",
      "metadata": {
        "id": "lUS7P2T3IdhK"
      },
      "source": [
        "corpus = ['text mining is interesting',\n",
        "          'text mining is like data mining',\n",
        "          'text and data mining have a few differences'\n",
        "        ]"
      ],
      "execution_count": 37,
      "outputs": []
    },
    {
      "cell_type": "code",
      "metadata": {
        "id": "WXTGJCugIq5S"
      },
      "source": [
        "from sklearn.feature_extraction.text import CountVectorizer"
      ],
      "execution_count": 38,
      "outputs": []
    },
    {
      "cell_type": "code",
      "metadata": {
        "id": "b8R18GUIIz8L"
      },
      "source": [
        "# Setting Up Parameters\n",
        "vec = CountVectorizer(ngram_range=(1,3)) #comination of  unigram, bigramsm trigrams; bigrams: 'text text, 'text mining',...\n",
        "# vec = CountVectorizer(ngram_range=(2,2)) #We're only interested in bigrams; bigrams: 'text text, 'text mining',...\n",
        "# vec = CountVectorizer(max_df=2)\n",
        "# vec = CountVectorizer(max_features=4)\n",
        "# vec = CountVectorizer(binary = 'true')"
      ],
      "execution_count": 53,
      "outputs": []
    },
    {
      "cell_type": "code",
      "metadata": {
        "colab": {
          "base_uri": "https://localhost:8080/"
        },
        "id": "wnss6XP2I367",
        "outputId": "223537d3-e536-4fb0-a3ec-e2bcdad6ea7c"
      },
      "source": [
        "X = vec.fit_transform(corpus)\n",
        "X\n"
      ],
      "execution_count": 54,
      "outputs": [
        {
          "output_type": "execute_result",
          "data": {
            "text/plain": [
              "<3x31 sparse matrix of type '<class 'numpy.int64'>'\n",
              "\twith 41 stored elements in Compressed Sparse Row format>"
            ]
          },
          "metadata": {
            "tags": []
          },
          "execution_count": 54
        }
      ]
    },
    {
      "cell_type": "code",
      "metadata": {
        "colab": {
          "base_uri": "https://localhost:8080/"
        },
        "id": "eukyxHFiI-IJ",
        "outputId": "81fb339f-44e2-4b6c-e98b-a32329bc2eba"
      },
      "source": [
        "X.toarray()"
      ],
      "execution_count": 55,
      "outputs": [
        {
          "output_type": "execute_result",
          "data": {
            "text/plain": [
              "array([[0, 0, 0, 0, 0, 0, 0, 0, 0, 0, 0, 0, 1, 1, 1, 0, 0, 0, 0, 0, 1, 0,\n",
              "        0, 1, 1, 0, 1, 0, 0, 1, 1],\n",
              "       [0, 0, 0, 1, 1, 0, 0, 0, 0, 0, 0, 0, 0, 1, 0, 1, 1, 1, 1, 1, 2, 0,\n",
              "        0, 1, 0, 1, 1, 0, 0, 1, 1],\n",
              "       [1, 1, 1, 1, 1, 1, 1, 1, 1, 1, 1, 1, 0, 0, 0, 0, 0, 0, 0, 0, 1, 1,\n",
              "        1, 0, 0, 0, 1, 1, 1, 0, 0]])"
            ]
          },
          "metadata": {
            "tags": []
          },
          "execution_count": 55
        }
      ]
    },
    {
      "cell_type": "code",
      "metadata": {
        "colab": {
          "base_uri": "https://localhost:8080/"
        },
        "id": "bioyYnx0JBG6",
        "outputId": "7155fa87-4f5f-4462-c103-0ab033742192"
      },
      "source": [
        "vec.get_feature_names()"
      ],
      "execution_count": 56,
      "outputs": [
        {
          "output_type": "execute_result",
          "data": {
            "text/plain": [
              "['and',\n",
              " 'and data',\n",
              " 'and data mining',\n",
              " 'data',\n",
              " 'data mining',\n",
              " 'data mining have',\n",
              " 'differences',\n",
              " 'few',\n",
              " 'few differences',\n",
              " 'have',\n",
              " 'have few',\n",
              " 'have few differences',\n",
              " 'interesting',\n",
              " 'is',\n",
              " 'is interesting',\n",
              " 'is like',\n",
              " 'is like data',\n",
              " 'like',\n",
              " 'like data',\n",
              " 'like data mining',\n",
              " 'mining',\n",
              " 'mining have',\n",
              " 'mining have few',\n",
              " 'mining is',\n",
              " 'mining is interesting',\n",
              " 'mining is like',\n",
              " 'text',\n",
              " 'text and',\n",
              " 'text and data',\n",
              " 'text mining',\n",
              " 'text mining is']"
            ]
          },
          "metadata": {
            "tags": []
          },
          "execution_count": 56
        }
      ]
    },
    {
      "cell_type": "code",
      "metadata": {
        "colab": {
          "base_uri": "https://localhost:8080/"
        },
        "id": "TFh8HbOxJNqd",
        "outputId": "f2d1272e-9fb2-43a7-9769-29ff541a6e80"
      },
      "source": [
        "len(vec.get_feature_names())"
      ],
      "execution_count": 57,
      "outputs": [
        {
          "output_type": "execute_result",
          "data": {
            "text/plain": [
              "31"
            ]
          },
          "metadata": {
            "tags": []
          },
          "execution_count": 57
        }
      ]
    },
    {
      "cell_type": "code",
      "metadata": {
        "colab": {
          "base_uri": "https://localhost:8080/"
        },
        "id": "Dk4d9K9HJeqb",
        "outputId": "c1b2d567-2fee-4453-ee89-14942add995b"
      },
      "source": [
        "vec.vocabulary_"
      ],
      "execution_count": 58,
      "outputs": [
        {
          "output_type": "execute_result",
          "data": {
            "text/plain": [
              "{'and': 0,\n",
              " 'and data': 1,\n",
              " 'and data mining': 2,\n",
              " 'data': 3,\n",
              " 'data mining': 4,\n",
              " 'data mining have': 5,\n",
              " 'differences': 6,\n",
              " 'few': 7,\n",
              " 'few differences': 8,\n",
              " 'have': 9,\n",
              " 'have few': 10,\n",
              " 'have few differences': 11,\n",
              " 'interesting': 12,\n",
              " 'is': 13,\n",
              " 'is interesting': 14,\n",
              " 'is like': 15,\n",
              " 'is like data': 16,\n",
              " 'like': 17,\n",
              " 'like data': 18,\n",
              " 'like data mining': 19,\n",
              " 'mining': 20,\n",
              " 'mining have': 21,\n",
              " 'mining have few': 22,\n",
              " 'mining is': 23,\n",
              " 'mining is interesting': 24,\n",
              " 'mining is like': 25,\n",
              " 'text': 26,\n",
              " 'text and': 27,\n",
              " 'text and data': 28,\n",
              " 'text mining': 29,\n",
              " 'text mining is': 30}"
            ]
          },
          "metadata": {
            "tags": []
          },
          "execution_count": 58
        }
      ]
    },
    {
      "cell_type": "code",
      "metadata": {
        "id": "lOAK667AJhFL"
      },
      "source": [
        ""
      ],
      "execution_count": 58,
      "outputs": []
    }
  ]
}