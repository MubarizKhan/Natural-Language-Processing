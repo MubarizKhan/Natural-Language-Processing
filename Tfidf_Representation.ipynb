{
  "nbformat": 4,
  "nbformat_minor": 0,
  "metadata": {
    "colab": {
      "name": "Tfidf-Representation.ipynb",
      "provenance": [],
      "authorship_tag": "ABX9TyMlUFa1/ceGInaUNG+Zx8LR",
      "include_colab_link": true
    },
    "kernelspec": {
      "name": "python3",
      "display_name": "Python 3"
    },
    "language_info": {
      "name": "python"
    }
  },
  "cells": [
    {
      "cell_type": "markdown",
      "metadata": {
        "id": "view-in-github",
        "colab_type": "text"
      },
      "source": [
        "<a href=\"https://colab.research.google.com/github/MubarizKhan/Natural-Language-Processing/blob/main/Tfidf_Representation.ipynb\" target=\"_parent\"><img src=\"https://colab.research.google.com/assets/colab-badge.svg\" alt=\"Open In Colab\"/></a>"
      ]
    },
    {
      "cell_type": "code",
      "metadata": {
        "id": "lUS7P2T3IdhK"
      },
      "source": [
        "corpus = ['text mining is interesting',\n",
        "          'text mining is like data mining',\n",
        "          'text and data mining have a few differences'\n",
        "        ]"
      ],
      "execution_count": null,
      "outputs": []
    },
    {
      "cell_type": "code",
      "metadata": {
        "id": "WXTGJCugIq5S"
      },
      "source": [
        "from sklearn.feature_extraction.text import TfidfVectorizer"
      ],
      "execution_count": 68,
      "outputs": []
    },
    {
      "cell_type": "code",
      "metadata": {
        "id": "b8R18GUIIz8L"
      },
      "source": [
        "vec = TfidfVectorizer(min_df = 1, max_df =2, max_features=20, ngram_range=(1,3))    \n",
        "# vec = TfidfVectorizer(min_df = 1, max_df =2, max_features=3, ngram_range=(1,3))    \n",
        "# vec = TfidfVectorizer(min_df = 2) #Words occuring in less than 2 documents ae eliminated"
      ],
      "execution_count": 87,
      "outputs": []
    },
    {
      "cell_type": "code",
      "metadata": {
        "colab": {
          "base_uri": "https://localhost:8080/"
        },
        "id": "wnss6XP2I367",
        "outputId": "d901242f-4792-42fc-9f46-4567605fc08c"
      },
      "source": [
        "X = vec.fit_transform(corpus)\n",
        "X\n"
      ],
      "execution_count": 88,
      "outputs": [
        {
          "output_type": "execute_result",
          "data": {
            "text/plain": [
              "<3x20 sparse matrix of type '<class 'numpy.float64'>'\n",
              "\twith 26 stored elements in Compressed Sparse Row format>"
            ]
          },
          "metadata": {
            "tags": []
          },
          "execution_count": 88
        }
      ]
    },
    {
      "cell_type": "code",
      "metadata": {
        "colab": {
          "base_uri": "https://localhost:8080/"
        },
        "id": "eukyxHFiI-IJ",
        "outputId": "0953fae1-3924-43f5-e9b7-dcc9d4dcda8e"
      },
      "source": [
        "X.toarray()"
      ],
      "execution_count": 89,
      "outputs": [
        {
          "output_type": "execute_result",
          "data": {
            "text/plain": [
              "array([[0.        , 0.        , 0.        , 0.        , 0.        ,\n",
              "        0.48148213, 0.36617957, 0.        , 0.        , 0.        ,\n",
              "        0.        , 0.        , 0.        , 0.36617957, 0.48148213,\n",
              "        0.        , 0.        , 0.        , 0.36617957, 0.36617957],\n",
              "       [0.        , 0.26131363, 0.26131363, 0.        , 0.        ,\n",
              "        0.        , 0.26131363, 0.34359602, 0.34359602, 0.34359602,\n",
              "        0.34359602, 0.        , 0.        , 0.26131363, 0.        ,\n",
              "        0.34359602, 0.        , 0.        , 0.26131363, 0.26131363],\n",
              "       [0.35013871, 0.26628951, 0.26628951, 0.35013871, 0.35013871,\n",
              "        0.        , 0.        , 0.        , 0.        , 0.        ,\n",
              "        0.        , 0.35013871, 0.35013871, 0.        , 0.        ,\n",
              "        0.        , 0.35013871, 0.35013871, 0.        , 0.        ]])"
            ]
          },
          "metadata": {
            "tags": []
          },
          "execution_count": 89
        }
      ]
    },
    {
      "cell_type": "code",
      "metadata": {
        "colab": {
          "base_uri": "https://localhost:8080/"
        },
        "id": "bioyYnx0JBG6",
        "outputId": "142e19b7-5301-4787-9e4d-a145597065aa"
      },
      "source": [
        "vec.get_feature_names()"
      ],
      "execution_count": 90,
      "outputs": [
        {
          "output_type": "execute_result",
          "data": {
            "text/plain": [
              "['and',\n",
              " 'data',\n",
              " 'data mining',\n",
              " 'have few',\n",
              " 'have few differences',\n",
              " 'interesting',\n",
              " 'is',\n",
              " 'is like data',\n",
              " 'like',\n",
              " 'like data',\n",
              " 'like data mining',\n",
              " 'mining have',\n",
              " 'mining have few',\n",
              " 'mining is',\n",
              " 'mining is interesting',\n",
              " 'mining is like',\n",
              " 'text and',\n",
              " 'text and data',\n",
              " 'text mining',\n",
              " 'text mining is']"
            ]
          },
          "metadata": {
            "tags": []
          },
          "execution_count": 90
        }
      ]
    },
    {
      "cell_type": "code",
      "metadata": {
        "colab": {
          "base_uri": "https://localhost:8080/"
        },
        "id": "TFh8HbOxJNqd",
        "outputId": "3f929d39-95ba-46f9-f909-f512eb9c1413"
      },
      "source": [
        "len(vec.get_feature_names())"
      ],
      "execution_count": 91,
      "outputs": [
        {
          "output_type": "execute_result",
          "data": {
            "text/plain": [
              "20"
            ]
          },
          "metadata": {
            "tags": []
          },
          "execution_count": 91
        }
      ]
    },
    {
      "cell_type": "code",
      "metadata": {
        "colab": {
          "base_uri": "https://localhost:8080/"
        },
        "id": "Dk4d9K9HJeqb",
        "outputId": "1a423988-b957-4802-f860-d2a9a61d4cf3"
      },
      "source": [
        "vec.vocabulary_"
      ],
      "execution_count": 92,
      "outputs": [
        {
          "output_type": "execute_result",
          "data": {
            "text/plain": [
              "{'and': 0,\n",
              " 'data': 1,\n",
              " 'data mining': 2,\n",
              " 'have few': 3,\n",
              " 'have few differences': 4,\n",
              " 'interesting': 5,\n",
              " 'is': 6,\n",
              " 'is like data': 7,\n",
              " 'like': 8,\n",
              " 'like data': 9,\n",
              " 'like data mining': 10,\n",
              " 'mining have': 11,\n",
              " 'mining have few': 12,\n",
              " 'mining is': 13,\n",
              " 'mining is interesting': 14,\n",
              " 'mining is like': 15,\n",
              " 'text and': 16,\n",
              " 'text and data': 17,\n",
              " 'text mining': 18,\n",
              " 'text mining is': 19}"
            ]
          },
          "metadata": {
            "tags": []
          },
          "execution_count": 92
        }
      ]
    },
    {
      "cell_type": "code",
      "metadata": {
        "id": "lOAK667AJhFL"
      },
      "source": [
        ""
      ],
      "execution_count": null,
      "outputs": []
    }
  ]
}